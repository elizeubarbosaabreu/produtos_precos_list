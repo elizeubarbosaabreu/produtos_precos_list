{
 "cells": [
  {
   "cell_type": "code",
   "execution_count": 28,
   "metadata": {},
   "outputs": [
    {
     "name": "stdout",
     "output_type": "stream",
     "text": [
      "\u001b[7m                LISTA DE PRODUTOS                 \u001b[m\n",
      "\n",
      "Este aplicativo gera uma lista com nome dos produtos \n",
      "e seus preços e faz a somatória de todos o produtos  digitados...\n",
      "\n",
      "Digite o nome do produto (\"x\" se quiser finalizar): arroz\n",
      "Valor do Produto: R$25\n",
      "\n",
      "Digite o nome do produto (\"x\" se quiser finalizar): batata doce\n",
      "Valor do Produto: R$12.95\n",
      "\n",
      "Digite o nome do produto (\"x\" se quiser finalizar): feijão\n",
      "Valor do Produto: R$9.95\n",
      "\n",
      "Digite o nome do produto (\"x\" se quiser finalizar): beterraba\n",
      "Valor do Produto: R$2.98\n",
      "\n",
      "Digite o nome do produto (\"x\" se quiser finalizar): caderno 12 matérias\n",
      "Valor do Produto: R$25.98\n",
      "\n",
      "Digite o nome do produto (\"x\" se quiser finalizar): sapato social\n",
      "Valor do Produto: R$235.97\n",
      "\n",
      "Digite o nome do produto (\"x\" se quiser finalizar): bolsa executiva\n",
      "Valor do Produto: R$235.97\n",
      "\n",
      "Digite o nome do produto (\"x\" se quiser finalizar): notebook\n",
      "Valor do Produto: R$7950.49\n",
      "\n",
      "Digite o nome do produto (\"x\" se quiser finalizar): x\n"
     ]
    }
   ],
   "source": [
    "import os\n",
    "\n",
    "# INICIALIZA AS LISTAS COM VALORES ZERADOS\n",
    "produtos = []\n",
    "precos = []\n",
    "\n",
    "os.system('clear')\n",
    "print('{}{:^50}{}'.format('\\033[7m','LISTA DE PRODUTOS','\\033[m'))\n",
    "\n",
    "print('''\n",
    "Este aplicativo gera uma lista com nome dos produtos \n",
    "e seus preços e faz a somatória de todos o produtos  digitados...''')\n",
    "while True:\n",
    "    p = input('''\n",
    "Digite o nome do produto (\"x\" se quiser finalizar): ''')\n",
    "    if p == 'x' or p == 'X':\n",
    "        break\n",
    "    produtos.append(p)\n",
    "    \n",
    "    v = float(input('Valor do Produto: R$'))   \n",
    "    precos.append(v)\n",
    "    "
   ]
  },
  {
   "cell_type": "code",
   "execution_count": 29,
   "metadata": {},
   "outputs": [
    {
     "data": {
      "text/plain": [
       "['arroz',\n",
       " 'batata doce',\n",
       " 'feijão',\n",
       " 'beterraba',\n",
       " 'caderno 12 matérias',\n",
       " 'sapato social',\n",
       " 'bolsa executiva',\n",
       " 'notebook']"
      ]
     },
     "execution_count": 29,
     "metadata": {},
     "output_type": "execute_result"
    }
   ],
   "source": [
    "produtos"
   ]
  },
  {
   "cell_type": "code",
   "execution_count": 30,
   "metadata": {},
   "outputs": [
    {
     "data": {
      "text/plain": [
       "[25.0, 12.95, 9.95, 2.98, 25.98, 235.97, 235.97, 7950.49]"
      ]
     },
     "execution_count": 30,
     "metadata": {},
     "output_type": "execute_result"
    }
   ],
   "source": [
    "precos"
   ]
  },
  {
   "cell_type": "code",
   "execution_count": 31,
   "metadata": {},
   "outputs": [
    {
     "name": "stdout",
     "output_type": "stream",
     "text": [
      "\u001b[7m                LISTA DE PRODUTOS                 \u001b[m\n",
      "arroz...................................R$25.00\n",
      "batata doce.............................R$12.95\n",
      "feijão..................................R$9.95\n",
      "beterraba...............................R$2.98\n",
      "caderno 12 matérias.....................R$25.98\n",
      "sapato social...........................R$235.97\n",
      "bolsa executiva.........................R$235.97\n",
      "notebook................................R$7,950.49\n",
      "\n",
      "Preço total.............................R$8,499.29\n"
     ]
    }
   ],
   "source": [
    "os.system('clear')\n",
    "print('{}{:^50}{}'.format('\\033[7m','LISTA DE PRODUTOS','\\033[m'))\n",
    "count = 0\n",
    "for i in produtos:\n",
    "    \n",
    "    \n",
    "    print(f'{produtos[count]:.<40}R${precos[count]:,.2f}')\n",
    "    count += 1\n",
    "\n",
    "total =  sum(precos)\n",
    "espaco = '''Preço total'''\n",
    "print(f'\\n{espaco:.<40}R${total:,.2f}')\n"
   ]
  },
  {
   "cell_type": "code",
   "execution_count": null,
   "metadata": {},
   "outputs": [],
   "source": []
  },
  {
   "cell_type": "code",
   "execution_count": null,
   "metadata": {},
   "outputs": [],
   "source": []
  }
 ],
 "metadata": {
  "kernelspec": {
   "display_name": "Python 3",
   "language": "python",
   "name": "python3"
  },
  "language_info": {
   "codemirror_mode": {
    "name": "ipython",
    "version": 3
   },
   "file_extension": ".py",
   "mimetype": "text/x-python",
   "name": "python",
   "nbconvert_exporter": "python",
   "pygments_lexer": "ipython3",
   "version": "3.7.3"
  }
 },
 "nbformat": 4,
 "nbformat_minor": 2
}
